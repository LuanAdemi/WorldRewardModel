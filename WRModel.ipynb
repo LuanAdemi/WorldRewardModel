{
 "cells": [
  {
   "cell_type": "markdown",
   "id": "2de11c4d-eb45-4459-b872-519d7f70e373",
   "metadata": {},
   "source": [
    "# World-Reward-Modeling\n",
    "<img src=\"WRM.png\">"
   ]
  },
  {
   "cell_type": "code",
   "execution_count": null,
   "id": "0cd3b388-dd08-4855-a6eb-51fbb2b1fec4",
   "metadata": {},
   "outputs": [],
   "source": []
  }
 ],
 "metadata": {
  "kernelspec": {
   "display_name": "Python 3",
   "language": "python",
   "name": "python3"
  },
  "language_info": {
   "codemirror_mode": {
    "name": "ipython",
    "version": 3
   },
   "file_extension": ".py",
   "mimetype": "text/x-python",
   "name": "python",
   "nbconvert_exporter": "python",
   "pygments_lexer": "ipython3",
   "version": "3.9.5"
  }
 },
 "nbformat": 4,
 "nbformat_minor": 5
}
