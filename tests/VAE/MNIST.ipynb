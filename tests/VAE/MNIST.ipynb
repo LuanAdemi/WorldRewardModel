{
 "cells": [
  {
   "cell_type": "markdown",
   "id": "e0ef9b55-5c45-4e42-a41f-6e91ec26f928",
   "metadata": {},
   "source": [
    "<img src=\"out/generated_images.gif\" style=\"float:right;height:200px\">\n",
    "<img src=\"../../assets/AE.png\" style=\"float:right;height:200px\">\n",
    "\n",
    "# **V**ariational **A**uto **E**ncoder\n",
    "\n",
    "This notebook tests the implementation of a variational autoencoder.\n",
    "\n",
    "This model is one part of the **WorldModel** included in the *WorlRewardModel* which is responisble to encode the observation <br> for the **MD-RNN model** so it can predict the next observation. This notbook tests the **VAE** using the MNIST dataset.\n"
   ]
  },
  {
   "cell_type": "code",
   "execution_count": 1,
   "id": "15256405-b35c-419a-967f-48dc2506bce3",
   "metadata": {
    "tags": []
   },
   "outputs": [],
   "source": [
    "import torch\n",
    "import torch.optim as optim\n",
    "import torch.nn as nn\n",
    "import torchvision.transforms as transforms\n",
    "import torchvision\n",
    "import matplotlib\n",
    "from torch.utils.data import DataLoader\n",
    "from torchvision.utils import make_grid\n",
    "from AutoEncoder import *\n",
    "from utils import save_reconstructed_images, image_to_vid, save_loss_plot\n",
    "matplotlib.style.use('ggplot')"
   ]
  },
  {
   "cell_type": "code",
   "execution_count": 2,
   "id": "6444b54b-256e-4080-bf88-5873e8dd3976",
   "metadata": {
    "tags": []
   },
   "outputs": [],
   "source": [
    "# initialize the model\n",
    "model = ConvVAE()\n",
    "# set the learning parameters\n",
    "lr = 0.001\n",
    "epochs = 20\n",
    "batch_size = 64\n",
    "optimizer = optim.Adam(model.parameters(), lr=lr)\n",
    "criterion = nn.BCELoss(reduction='sum')\n",
    "# a list to save all the reconstructed images in PyTorch grid format\n",
    "grid_images = []"
   ]
  },
  {
   "cell_type": "code",
   "execution_count": 3,
   "id": "6c508f05-07ed-44d7-84c0-e26421dcdcdf",
   "metadata": {
    "tags": []
   },
   "outputs": [
    {
     "name": "stderr",
     "output_type": "stream",
     "text": [
      "/home/neonode/anaconda3/envs/datascience/lib/python3.9/site-packages/torchvision/datasets/mnist.py:498: UserWarning: The given NumPy array is not writeable, and PyTorch does not support non-writeable tensors. This means you can write to the underlying (supposedly non-writeable) NumPy array using the tensor. You may want to copy the array to protect its data or make it writeable before converting it to a tensor. This type of warning will be suppressed for the rest of this program. (Triggered internally at  /pytorch/torch/csrc/utils/tensor_numpy.cpp:180.)\n",
      "  return torch.from_numpy(parsed.astype(m[2], copy=False)).view(*s)\n"
     ]
    }
   ],
   "source": [
    "transform = transforms.Compose([\n",
    "    transforms.Resize((32, 32)),\n",
    "    transforms.ToTensor(),\n",
    "])\n",
    "# training set and train data loader\n",
    "trainset = torchvision.datasets.MNIST(\n",
    "    root='../input', train=True, download=True, transform=transform\n",
    ")\n",
    "trainloader = DataLoader(\n",
    "    trainset, batch_size=batch_size, shuffle=True\n",
    ")\n",
    "# validation set and validation data loader\n",
    "testset = torchvision.datasets.MNIST(\n",
    "    root='../input', train=False, download=True, transform=transform\n",
    ")\n",
    "testloader = DataLoader(\n",
    "    testset, batch_size=batch_size, shuffle=False\n",
    ")"
   ]
  },
  {
   "cell_type": "code",
   "execution_count": 4,
   "id": "36f8aba7-b9a0-40aa-a792-af8e7ec4c95a",
   "metadata": {},
   "outputs": [
    {
     "name": "stdout",
     "output_type": "stream",
     "text": [
      "Epoch 1 of 20\n"
     ]
    },
    {
     "name": "stderr",
     "output_type": "stream",
     "text": [
      "938it [00:43, 21.59it/s]                         \n",
      "157it [00:02, 55.68it/s]                         \n"
     ]
    },
    {
     "name": "stdout",
     "output_type": "stream",
     "text": [
      "Train Loss: 15502.2364\n",
      "Val Loss: 11756.6812\n",
      "Epoch 2 of 20\n"
     ]
    },
    {
     "name": "stderr",
     "output_type": "stream",
     "text": [
      "938it [00:44, 21.13it/s]                         \n",
      "157it [00:03, 47.05it/s]                         \n"
     ]
    },
    {
     "name": "stdout",
     "output_type": "stream",
     "text": [
      "Train Loss: 11200.3825\n",
      "Val Loss: 10868.9850\n",
      "Epoch 3 of 20\n"
     ]
    },
    {
     "name": "stderr",
     "output_type": "stream",
     "text": [
      "938it [00:44, 21.23it/s]                         \n",
      "157it [00:02, 56.64it/s]                         \n"
     ]
    },
    {
     "name": "stdout",
     "output_type": "stream",
     "text": [
      "Train Loss: 10790.9385\n",
      "Val Loss: 10701.1567\n",
      "Epoch 4 of 20\n"
     ]
    },
    {
     "name": "stderr",
     "output_type": "stream",
     "text": [
      "938it [00:44, 21.31it/s]                         \n",
      "157it [00:02, 56.14it/s]                         \n"
     ]
    },
    {
     "name": "stdout",
     "output_type": "stream",
     "text": [
      "Train Loss: 10630.9243\n",
      "Val Loss: 10511.4049\n",
      "Epoch 5 of 20\n"
     ]
    },
    {
     "name": "stderr",
     "output_type": "stream",
     "text": [
      "938it [00:44, 21.28it/s]                         \n",
      "157it [00:02, 56.67it/s]                         \n"
     ]
    },
    {
     "name": "stdout",
     "output_type": "stream",
     "text": [
      "Train Loss: 10531.0838\n",
      "Val Loss: 10513.6167\n",
      "Epoch 6 of 20\n"
     ]
    },
    {
     "name": "stderr",
     "output_type": "stream",
     "text": [
      "938it [00:44, 21.18it/s]                         \n",
      "157it [00:02, 55.58it/s]                         \n"
     ]
    },
    {
     "name": "stdout",
     "output_type": "stream",
     "text": [
      "Train Loss: 10459.7331\n",
      "Val Loss: 10391.7545\n",
      "Epoch 7 of 20\n"
     ]
    },
    {
     "name": "stderr",
     "output_type": "stream",
     "text": [
      "938it [00:43, 21.38it/s]                         \n",
      "157it [00:02, 55.99it/s]                         \n"
     ]
    },
    {
     "name": "stdout",
     "output_type": "stream",
     "text": [
      "Train Loss: 10386.4367\n",
      "Val Loss: 10248.7639\n",
      "Epoch 8 of 20\n"
     ]
    },
    {
     "name": "stderr",
     "output_type": "stream",
     "text": [
      "938it [00:44, 21.20it/s]                         \n",
      "157it [00:02, 55.74it/s]                         \n"
     ]
    },
    {
     "name": "stdout",
     "output_type": "stream",
     "text": [
      "Train Loss: 10173.8931\n",
      "Val Loss: 10016.1455\n",
      "Epoch 9 of 20\n"
     ]
    },
    {
     "name": "stderr",
     "output_type": "stream",
     "text": [
      "938it [00:44, 21.21it/s]                         \n",
      "157it [00:02, 56.50it/s]                         \n"
     ]
    },
    {
     "name": "stdout",
     "output_type": "stream",
     "text": [
      "Train Loss: 10015.0534\n",
      "Val Loss: 9936.4109\n",
      "Epoch 10 of 20\n"
     ]
    },
    {
     "name": "stderr",
     "output_type": "stream",
     "text": [
      "938it [00:43, 21.41it/s]                         \n",
      "157it [00:02, 54.74it/s]                         \n"
     ]
    },
    {
     "name": "stdout",
     "output_type": "stream",
     "text": [
      "Train Loss: 9924.4527\n",
      "Val Loss: 9873.1626\n",
      "Epoch 11 of 20\n"
     ]
    },
    {
     "name": "stderr",
     "output_type": "stream",
     "text": [
      "938it [00:44, 21.30it/s]                         \n",
      "157it [00:02, 53.54it/s]                         \n"
     ]
    },
    {
     "name": "stdout",
     "output_type": "stream",
     "text": [
      "Train Loss: 9877.4359\n",
      "Val Loss: 9830.5513\n",
      "Epoch 12 of 20\n"
     ]
    },
    {
     "name": "stderr",
     "output_type": "stream",
     "text": [
      "938it [00:43, 21.32it/s]                         \n",
      "157it [00:02, 56.94it/s]                         \n"
     ]
    },
    {
     "name": "stdout",
     "output_type": "stream",
     "text": [
      "Train Loss: 9843.1942\n",
      "Val Loss: 9767.7853\n",
      "Epoch 13 of 20\n"
     ]
    },
    {
     "name": "stderr",
     "output_type": "stream",
     "text": [
      "938it [00:44, 21.18it/s]                         \n",
      "157it [00:02, 53.70it/s]                         \n"
     ]
    },
    {
     "name": "stdout",
     "output_type": "stream",
     "text": [
      "Train Loss: 9812.0022\n",
      "Val Loss: 9741.7682\n",
      "Epoch 14 of 20\n"
     ]
    },
    {
     "name": "stderr",
     "output_type": "stream",
     "text": [
      "938it [00:44, 21.27it/s]                         \n",
      "157it [00:02, 55.61it/s]                         \n"
     ]
    },
    {
     "name": "stdout",
     "output_type": "stream",
     "text": [
      "Train Loss: 9785.4131\n",
      "Val Loss: 9724.7468\n",
      "Epoch 15 of 20\n"
     ]
    },
    {
     "name": "stderr",
     "output_type": "stream",
     "text": [
      "938it [00:44, 21.20it/s]                         \n",
      "157it [00:02, 56.07it/s]                         \n"
     ]
    },
    {
     "name": "stdout",
     "output_type": "stream",
     "text": [
      "Train Loss: 9765.4340\n",
      "Val Loss: 9688.6532\n",
      "Epoch 16 of 20\n"
     ]
    },
    {
     "name": "stderr",
     "output_type": "stream",
     "text": [
      "938it [00:44, 21.11it/s]                         \n",
      "157it [00:02, 55.66it/s]                         \n"
     ]
    },
    {
     "name": "stdout",
     "output_type": "stream",
     "text": [
      "Train Loss: 9748.1102\n",
      "Val Loss: 9715.3007\n",
      "Epoch 17 of 20\n"
     ]
    },
    {
     "name": "stderr",
     "output_type": "stream",
     "text": [
      "938it [00:44, 21.18it/s]                         \n",
      "157it [00:02, 53.02it/s]                         \n"
     ]
    },
    {
     "name": "stdout",
     "output_type": "stream",
     "text": [
      "Train Loss: 9729.3914\n",
      "Val Loss: 9682.3003\n",
      "Epoch 18 of 20\n"
     ]
    },
    {
     "name": "stderr",
     "output_type": "stream",
     "text": [
      "938it [00:44, 20.98it/s]                         \n",
      "157it [00:02, 55.74it/s]                         \n"
     ]
    },
    {
     "name": "stdout",
     "output_type": "stream",
     "text": [
      "Train Loss: 9717.5705\n",
      "Val Loss: 9669.3096\n",
      "Epoch 19 of 20\n"
     ]
    },
    {
     "name": "stderr",
     "output_type": "stream",
     "text": [
      "938it [00:44, 21.09it/s]                         \n",
      "157it [00:02, 55.11it/s]                         \n"
     ]
    },
    {
     "name": "stdout",
     "output_type": "stream",
     "text": [
      "Train Loss: 9699.5200\n",
      "Val Loss: 9716.5411\n",
      "Epoch 20 of 20\n"
     ]
    },
    {
     "name": "stderr",
     "output_type": "stream",
     "text": [
      "938it [00:44, 21.12it/s]                         \n",
      "157it [00:02, 56.37it/s]                         \n"
     ]
    },
    {
     "name": "stdout",
     "output_type": "stream",
     "text": [
      "Train Loss: 9687.9625\n",
      "Val Loss: 9643.4381\n"
     ]
    },
    {
     "data": {
      "image/png": "[encoded data removed]",
      "text/plain": [
       "<Figure size 720x504 with 1 Axes>"
      ]
     },
     "metadata": {},
     "output_type": "display_data"
    },
    {
     "name": "stdout",
     "output_type": "stream",
     "text": [
      "TRAINING COMPLETE\n"
     ]
    }
   ],
   "source": [
    "train_loss = []\n",
    "valid_loss = []\n",
    "for epoch in range(epochs):\n",
    "    print(f\"Epoch {epoch+1} of {epochs}\")\n",
    "    train_epoch_loss = model.trainStep(\n",
    "        trainloader, trainset, optimizer, criterion\n",
    "    )\n",
    "    valid_epoch_loss, recon_images = model.validate(\n",
    "        testloader, testset, criterion\n",
    "    )\n",
    "    train_loss.append(train_epoch_loss)\n",
    "    valid_loss.append(valid_epoch_loss)\n",
    "    # save the reconstructed images from the validation loop\n",
    "    save_reconstructed_images(recon_images, epoch+1)\n",
    "    # convert the reconstructed images to PyTorch image grid format\n",
    "    image_grid = make_grid(recon_images.detach().cpu())\n",
    "    grid_images.append(image_grid)\n",
    "    print(f\"Train Loss: {train_epoch_loss:.4f}\")\n",
    "    print(f\"Val Loss: {valid_epoch_loss:.4f}\")\n",
    "    \n",
    "# save the reconstructions as a .gif file\n",
    "image_to_vid(grid_images)\n",
    "# save the loss plots to disk\n",
    "save_loss_plot(train_loss, valid_loss)\n",
    "print('TRAINING COMPLETE')"
   ]
  }
 ],
 "metadata": {
  "kernelspec": {
   "display_name": "Python 3",
   "language": "python",
   "name": "python3"
  },
  "language_info": {
   "codemirror_mode": {
    "name": "ipython",
    "version": 3
   },
   "file_extension": ".py",
   "mimetype": "text/x-python",
   "name": "python",
   "nbconvert_exporter": "python",
   "pygments_lexer": "ipython3",
   "version": "3.9.5"
  }
 },
 "nbformat": 4,
 "nbformat_minor": 5
}
