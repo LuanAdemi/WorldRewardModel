{
 "cells": [
  {
   "cell_type": "markdown",
   "id": "e0ef9b55-5c45-4e42-a41f-6e91ec26f928",
   "metadata": {},
   "source": [
    "<img src=\"../../assets/AE.png\" style=\"float:right;height:200px\">\n",
    "\n",
    "# **V**ariational **A**uto **E**ncoder\n",
    "\n",
    "This notebook tests the implementation of a variational autoencoder.\n",
    "\n",
    "This model is one part of the **WorldModel** included in the *WorlRewardModel* which is responisble to encode the observation <br> for the **MD-RNN model** so it can predict the next observation. This notbook tests the **VAE** using the MNIST dataset.\n"
   ]
  },
  {
   "cell_type": "code",
   "execution_count": 1,
   "id": "15256405-b35c-419a-967f-48dc2506bce3",
   "metadata": {
    "tags": []
   },
   "outputs": [],
   "source": [
    "import torch\n",
    "import torch.optim as optim\n",
    "import torch.nn as nn\n",
    "import torchvision.transforms as transforms\n",
    "import torchvision\n",
    "import matplotlib\n",
    "from torch.utils.data import DataLoader\n",
    "from torchvision.utils import make_grid\n",
    "from AutoEncoder import *\n",
    "from utils import save_reconstructed_images, image_to_vid, save_loss_plot\n",
    "matplotlib.style.use('ggplot')\n",
    "\n",
    "device = torch.device('cuda' if torch.cuda.is_available() else 'cpu')"
   ]
  },
  {
   "cell_type": "code",
   "execution_count": 2,
   "id": "6444b54b-256e-4080-bf88-5873e8dd3976",
   "metadata": {
    "tags": []
   },
   "outputs": [],
   "source": [
    "# initialize the model\n",
    "model = ConvVAE().to(device)\n",
    "# set the learning parameters\n",
    "lr = 0.001\n",
    "epochs = 50\n",
    "batch_size = 128\n",
    "optimizer = optim.Adam(model.parameters(), lr=lr)\n",
    "criterion = nn.BCELoss(reduction='sum')\n",
    "# a list to save all the reconstructed images in PyTorch grid format\n",
    "grid_images = []"
   ]
  },
  {
   "cell_type": "code",
   "execution_count": 3,
   "id": "6c508f05-07ed-44d7-84c0-e26421dcdcdf",
   "metadata": {
    "tags": []
   },
   "outputs": [],
   "source": [
    "transform = transforms.Compose([\n",
    "    transforms.Resize((32, 32)),\n",
    "    transforms.ToTensor(),\n",
    "])\n",
    "# training set and train data loader\n",
    "trainset = torchvision.datasets.MNIST(\n",
    "    root='../input', train=True, download=True, transform=transform\n",
    ")\n",
    "trainloader = DataLoader(\n",
    "    trainset, batch_size=batch_size, shuffle=True\n",
    ")\n",
    "# validation set and validation data loader\n",
    "testset = torchvision.datasets.MNIST(\n",
    "    root='../input', train=False, download=True, transform=transform\n",
    ")\n",
    "testloader = DataLoader(\n",
    "    testset, batch_size=batch_size, shuffle=False\n",
    ")"
   ]
  },
  {
   "cell_type": "code",
   "execution_count": 4,
   "id": "36f8aba7-b9a0-40aa-a792-af8e7ec4c95a",
   "metadata": {
    "collapsed": true,
    "jupyter": {
     "outputs_hidden": true
    },
    "tags": []
   },
   "outputs": [
    {
     "name": "stdout",
     "output_type": "stream",
     "text": [
      "Epoch 1 of 50\n"
     ]
    },
    {
     "name": "stderr",
     "output_type": "stream",
     "text": [
      "469it [00:07, 63.63it/s]                         \n",
      "79it [00:00, 94.82it/s]                        \n"
     ]
    },
    {
     "name": "stdout",
     "output_type": "stream",
     "text": [
      "Train Loss: 35409.1036\n",
      "Val Loss: 25717.5120\n",
      "Epoch 2 of 50\n"
     ]
    },
    {
     "name": "stderr",
     "output_type": "stream",
     "text": [
      "469it [00:06, 67.65it/s]                         \n",
      "79it [00:00, 95.11it/s]                        \n"
     ]
    },
    {
     "name": "stdout",
     "output_type": "stream",
     "text": [
      "Train Loss: 23913.7166\n",
      "Val Loss: 22434.7039\n",
      "Epoch 3 of 50\n"
     ]
    },
    {
     "name": "stderr",
     "output_type": "stream",
     "text": [
      "469it [00:06, 69.50it/s]                         \n",
      "79it [00:00, 99.29it/s]                        \n"
     ]
    },
    {
     "name": "stdout",
     "output_type": "stream",
     "text": [
      "Train Loss: 22238.3243\n",
      "Val Loss: 21572.4497\n",
      "Epoch 4 of 50\n"
     ]
    },
    {
     "name": "stderr",
     "output_type": "stream",
     "text": [
      "469it [00:06, 68.17it/s]                         \n",
      "79it [00:00, 94.27it/s]                        \n"
     ]
    },
    {
     "name": "stdout",
     "output_type": "stream",
     "text": [
      "Train Loss: 21361.7646\n",
      "Val Loss: 20740.6038\n",
      "Epoch 5 of 50\n"
     ]
    },
    {
     "name": "stderr",
     "output_type": "stream",
     "text": [
      "469it [00:06, 68.93it/s]                         \n",
      "79it [00:00, 92.74it/s]                        \n"
     ]
    },
    {
     "name": "stdout",
     "output_type": "stream",
     "text": [
      "Train Loss: 20966.9455\n",
      "Val Loss: 20511.6881\n",
      "Epoch 6 of 50\n"
     ]
    },
    {
     "name": "stderr",
     "output_type": "stream",
     "text": [
      "469it [00:06, 67.33it/s]                         \n",
      "79it [00:00, 92.33it/s]                        \n"
     ]
    },
    {
     "name": "stdout",
     "output_type": "stream",
     "text": [
      "Train Loss: 20754.0306\n",
      "Val Loss: 20369.2135\n",
      "Epoch 7 of 50\n"
     ]
    },
    {
     "name": "stderr",
     "output_type": "stream",
     "text": [
      "469it [00:06, 67.71it/s]                         \n",
      "79it [00:00, 97.30it/s]                        \n"
     ]
    },
    {
     "name": "stdout",
     "output_type": "stream",
     "text": [
      "Train Loss: 20612.5878\n",
      "Val Loss: 20321.5438\n",
      "Epoch 8 of 50\n"
     ]
    },
    {
     "name": "stderr",
     "output_type": "stream",
     "text": [
      "469it [00:06, 67.57it/s]                         \n",
      "79it [00:00, 93.55it/s]                        \n"
     ]
    },
    {
     "name": "stdout",
     "output_type": "stream",
     "text": [
      "Train Loss: 20513.0627\n",
      "Val Loss: 20218.9790\n",
      "Epoch 9 of 50\n"
     ]
    },
    {
     "name": "stderr",
     "output_type": "stream",
     "text": [
      "469it [00:06, 67.38it/s]                         \n",
      "79it [00:00, 89.73it/s]                        \n"
     ]
    },
    {
     "name": "stdout",
     "output_type": "stream",
     "text": [
      "Train Loss: 20408.0682\n",
      "Val Loss: 20099.0555\n",
      "Epoch 10 of 50\n"
     ]
    },
    {
     "name": "stderr",
     "output_type": "stream",
     "text": [
      "469it [00:07, 66.98it/s]                         \n",
      "79it [00:00, 92.51it/s]                        \n"
     ]
    },
    {
     "name": "stdout",
     "output_type": "stream",
     "text": [
      "Train Loss: 20345.5541\n",
      "Val Loss: 20009.4059\n",
      "Epoch 11 of 50\n"
     ]
    },
    {
     "name": "stderr",
     "output_type": "stream",
     "text": [
      "469it [00:06, 67.12it/s]                         \n",
      "79it [00:00, 94.69it/s]                        \n"
     ]
    },
    {
     "name": "stdout",
     "output_type": "stream",
     "text": [
      "Train Loss: 20286.8872\n",
      "Val Loss: 20000.0750\n",
      "Epoch 12 of 50\n"
     ]
    },
    {
     "name": "stderr",
     "output_type": "stream",
     "text": [
      "469it [00:06, 68.14it/s]                         \n",
      "79it [00:00, 93.76it/s]                        \n"
     ]
    },
    {
     "name": "stdout",
     "output_type": "stream",
     "text": [
      "Train Loss: 20231.3986\n",
      "Val Loss: 19928.7701\n",
      "Epoch 13 of 50\n"
     ]
    },
    {
     "name": "stderr",
     "output_type": "stream",
     "text": [
      "469it [00:06, 67.78it/s]                         \n",
      "79it [00:00, 99.15it/s]                        \n"
     ]
    },
    {
     "name": "stdout",
     "output_type": "stream",
     "text": [
      "Train Loss: 20180.8225\n",
      "Val Loss: 20047.1703\n",
      "Epoch 14 of 50\n"
     ]
    },
    {
     "name": "stderr",
     "output_type": "stream",
     "text": [
      "469it [00:06, 68.38it/s]                         \n",
      "79it [00:00, 96.75it/s]                        \n"
     ]
    },
    {
     "name": "stdout",
     "output_type": "stream",
     "text": [
      "Train Loss: 20139.3287\n",
      "Val Loss: 19910.3956\n",
      "Epoch 15 of 50\n"
     ]
    },
    {
     "name": "stderr",
     "output_type": "stream",
     "text": [
      "469it [00:06, 68.38it/s]                         \n",
      "79it [00:00, 96.25it/s]                        \n"
     ]
    },
    {
     "name": "stdout",
     "output_type": "stream",
     "text": [
      "Train Loss: 20093.9374\n",
      "Val Loss: 19822.2816\n",
      "Epoch 16 of 50\n"
     ]
    },
    {
     "name": "stderr",
     "output_type": "stream",
     "text": [
      "469it [00:06, 67.96it/s]                         \n",
      "79it [00:00, 97.77it/s]                        \n"
     ]
    },
    {
     "name": "stdout",
     "output_type": "stream",
     "text": [
      "Train Loss: 20027.9681\n",
      "Val Loss: 19698.0625\n",
      "Epoch 17 of 50\n"
     ]
    },
    {
     "name": "stderr",
     "output_type": "stream",
     "text": [
      "469it [00:06, 68.22it/s]                         \n",
      "79it [00:00, 97.96it/s]                        \n"
     ]
    },
    {
     "name": "stdout",
     "output_type": "stream",
     "text": [
      "Train Loss: 19911.2988\n",
      "Val Loss: 19617.7144\n",
      "Epoch 18 of 50\n"
     ]
    },
    {
     "name": "stderr",
     "output_type": "stream",
     "text": [
      "469it [00:06, 69.21it/s]                         \n",
      "79it [00:00, 98.56it/s]                        \n"
     ]
    },
    {
     "name": "stdout",
     "output_type": "stream",
     "text": [
      "Train Loss: 19813.6122\n",
      "Val Loss: 19512.4279\n",
      "Epoch 19 of 50\n"
     ]
    },
    {
     "name": "stderr",
     "output_type": "stream",
     "text": [
      "469it [00:06, 67.79it/s]                         \n",
      "79it [00:00, 92.52it/s]                        \n"
     ]
    },
    {
     "name": "stdout",
     "output_type": "stream",
     "text": [
      "Train Loss: 19749.0021\n",
      "Val Loss: 19509.0075\n",
      "Epoch 20 of 50\n"
     ]
    },
    {
     "name": "stderr",
     "output_type": "stream",
     "text": [
      "469it [00:06, 67.39it/s]                         \n",
      "79it [00:00, 94.89it/s]                        \n"
     ]
    },
    {
     "name": "stdout",
     "output_type": "stream",
     "text": [
      "Train Loss: 19700.3447\n",
      "Val Loss: 19416.5105\n",
      "Epoch 21 of 50\n"
     ]
    },
    {
     "name": "stderr",
     "output_type": "stream",
     "text": [
      "469it [00:06, 67.48it/s]                         \n",
      "79it [00:00, 96.22it/s]                        \n"
     ]
    },
    {
     "name": "stdout",
     "output_type": "stream",
     "text": [
      "Train Loss: 19663.4537\n",
      "Val Loss: 19442.9069\n",
      "Epoch 22 of 50\n"
     ]
    },
    {
     "name": "stderr",
     "output_type": "stream",
     "text": [
      "469it [00:07, 65.91it/s]                         \n",
      "79it [00:00, 96.51it/s]                        \n"
     ]
    },
    {
     "name": "stdout",
     "output_type": "stream",
     "text": [
      "Train Loss: 19615.3822\n",
      "Val Loss: 19366.1952\n",
      "Epoch 23 of 50\n"
     ]
    },
    {
     "name": "stderr",
     "output_type": "stream",
     "text": [
      "469it [00:07, 66.56it/s]                         \n",
      "79it [00:00, 97.23it/s]                        \n"
     ]
    },
    {
     "name": "stdout",
     "output_type": "stream",
     "text": [
      "Train Loss: 19590.2999\n",
      "Val Loss: 19423.3683\n",
      "Epoch 24 of 50\n"
     ]
    },
    {
     "name": "stderr",
     "output_type": "stream",
     "text": [
      "469it [00:06, 67.71it/s]                         \n",
      "79it [00:00, 96.80it/s]                        \n"
     ]
    },
    {
     "name": "stdout",
     "output_type": "stream",
     "text": [
      "Train Loss: 19543.4334\n",
      "Val Loss: 19286.3110\n",
      "Epoch 25 of 50\n"
     ]
    },
    {
     "name": "stderr",
     "output_type": "stream",
     "text": [
      "469it [00:06, 67.14it/s]                         \n",
      "79it [00:00, 93.70it/s]                        \n"
     ]
    },
    {
     "name": "stdout",
     "output_type": "stream",
     "text": [
      "Train Loss: 19477.1808\n",
      "Val Loss: 19297.7252\n",
      "Epoch 26 of 50\n"
     ]
    },
    {
     "name": "stderr",
     "output_type": "stream",
     "text": [
      "469it [00:06, 67.83it/s]                         \n",
      "79it [00:00, 93.01it/s]                        \n"
     ]
    },
    {
     "name": "stdout",
     "output_type": "stream",
     "text": [
      "Train Loss: 19394.3647\n",
      "Val Loss: 19205.3781\n",
      "Epoch 27 of 50\n"
     ]
    },
    {
     "name": "stderr",
     "output_type": "stream",
     "text": [
      "469it [00:06, 69.89it/s]                         \n",
      "79it [00:00, 99.41it/s]                        \n"
     ]
    },
    {
     "name": "stdout",
     "output_type": "stream",
     "text": [
      "Train Loss: 19337.8567\n",
      "Val Loss: 19081.4189\n",
      "Epoch 28 of 50\n"
     ]
    },
    {
     "name": "stderr",
     "output_type": "stream",
     "text": [
      "469it [00:07, 66.91it/s]                         \n",
      "79it [00:00, 97.47it/s]                        \n"
     ]
    },
    {
     "name": "stdout",
     "output_type": "stream",
     "text": [
      "Train Loss: 19290.6257\n",
      "Val Loss: 19119.2256\n",
      "Epoch 29 of 50\n"
     ]
    },
    {
     "name": "stderr",
     "output_type": "stream",
     "text": [
      "469it [00:06, 69.27it/s]                         \n",
      "79it [00:00, 94.44it/s]                        \n"
     ]
    },
    {
     "name": "stdout",
     "output_type": "stream",
     "text": [
      "Train Loss: 19274.3778\n",
      "Val Loss: 19042.4041\n",
      "Epoch 30 of 50\n"
     ]
    },
    {
     "name": "stderr",
     "output_type": "stream",
     "text": [
      "469it [00:06, 67.80it/s]                         \n",
      "79it [00:00, 95.90it/s]                        \n"
     ]
    },
    {
     "name": "stdout",
     "output_type": "stream",
     "text": [
      "Train Loss: 19240.5535\n",
      "Val Loss: 19057.8258\n",
      "Epoch 31 of 50\n"
     ]
    },
    {
     "name": "stderr",
     "output_type": "stream",
     "text": [
      "469it [00:06, 70.35it/s]                         \n",
      "79it [00:00, 93.99it/s]                        \n"
     ]
    },
    {
     "name": "stdout",
     "output_type": "stream",
     "text": [
      "Train Loss: 19217.1450\n",
      "Val Loss: 19006.1476\n",
      "Epoch 32 of 50\n"
     ]
    },
    {
     "name": "stderr",
     "output_type": "stream",
     "text": [
      "469it [00:06, 70.36it/s]                         \n",
      "79it [00:00, 90.73it/s]                        \n"
     ]
    },
    {
     "name": "stdout",
     "output_type": "stream",
     "text": [
      "Train Loss: 19206.2385\n",
      "Val Loss: 18965.2043\n",
      "Epoch 33 of 50\n"
     ]
    },
    {
     "name": "stderr",
     "output_type": "stream",
     "text": [
      "469it [00:06, 68.12it/s]                         \n",
      "79it [00:00, 87.25it/s]                        \n"
     ]
    },
    {
     "name": "stdout",
     "output_type": "stream",
     "text": [
      "Train Loss: 19176.9349\n",
      "Val Loss: 18965.3479\n",
      "Epoch 34 of 50\n"
     ]
    },
    {
     "name": "stderr",
     "output_type": "stream",
     "text": [
      "469it [00:06, 67.20it/s]                         \n",
      "79it [00:00, 92.76it/s]                        \n"
     ]
    },
    {
     "name": "stdout",
     "output_type": "stream",
     "text": [
      "Train Loss: 19164.9014\n",
      "Val Loss: 18969.5442\n",
      "Epoch 35 of 50\n"
     ]
    },
    {
     "name": "stderr",
     "output_type": "stream",
     "text": [
      "469it [00:06, 69.38it/s]                         \n",
      "79it [00:00, 89.12it/s]                        \n"
     ]
    },
    {
     "name": "stdout",
     "output_type": "stream",
     "text": [
      "Train Loss: 19146.1485\n",
      "Val Loss: 18975.2496\n",
      "Epoch 36 of 50\n"
     ]
    },
    {
     "name": "stderr",
     "output_type": "stream",
     "text": [
      "469it [00:07, 65.88it/s]                         \n",
      "79it [00:00, 89.28it/s]                        \n"
     ]
    },
    {
     "name": "stdout",
     "output_type": "stream",
     "text": [
      "Train Loss: 19139.9185\n",
      "Val Loss: 18964.0937\n",
      "Epoch 37 of 50\n"
     ]
    },
    {
     "name": "stderr",
     "output_type": "stream",
     "text": [
      "469it [00:06, 68.02it/s]                         \n",
      "79it [00:00, 94.52it/s]                        \n"
     ]
    },
    {
     "name": "stdout",
     "output_type": "stream",
     "text": [
      "Train Loss: 19119.4955\n",
      "Val Loss: 18958.6700\n",
      "Epoch 38 of 50\n"
     ]
    },
    {
     "name": "stderr",
     "output_type": "stream",
     "text": [
      "469it [00:06, 67.99it/s]                         \n",
      "79it [00:00, 99.02it/s]                        \n"
     ]
    },
    {
     "name": "stdout",
     "output_type": "stream",
     "text": [
      "Train Loss: 19110.8626\n",
      "Val Loss: 18935.1764\n",
      "Epoch 39 of 50\n"
     ]
    },
    {
     "name": "stderr",
     "output_type": "stream",
     "text": [
      "469it [00:06, 68.39it/s]                         \n",
      "79it [00:00, 92.23it/s]                        \n"
     ]
    },
    {
     "name": "stdout",
     "output_type": "stream",
     "text": [
      "Train Loss: 19092.6047\n",
      "Val Loss: 19002.1109\n",
      "Epoch 40 of 50\n"
     ]
    },
    {
     "name": "stderr",
     "output_type": "stream",
     "text": [
      "469it [00:07, 64.31it/s]                         \n",
      "79it [00:00, 89.81it/s]                        \n"
     ]
    },
    {
     "name": "stdout",
     "output_type": "stream",
     "text": [
      "Train Loss: 19082.3150\n",
      "Val Loss: 18898.8840\n",
      "Epoch 41 of 50\n"
     ]
    },
    {
     "name": "stderr",
     "output_type": "stream",
     "text": [
      "469it [00:06, 67.70it/s]                         \n",
      "79it [00:00, 94.94it/s]                        \n"
     ]
    },
    {
     "name": "stdout",
     "output_type": "stream",
     "text": [
      "Train Loss: 19071.9593\n",
      "Val Loss: 18891.6787\n",
      "Epoch 42 of 50\n"
     ]
    },
    {
     "name": "stderr",
     "output_type": "stream",
     "text": [
      "469it [00:06, 70.02it/s]                         \n",
      "79it [00:00, 96.93it/s]                        \n"
     ]
    },
    {
     "name": "stdout",
     "output_type": "stream",
     "text": [
      "Train Loss: 19059.8485\n",
      "Val Loss: 18892.8738\n",
      "Epoch 43 of 50\n"
     ]
    },
    {
     "name": "stderr",
     "output_type": "stream",
     "text": [
      "469it [00:07, 65.82it/s]                         \n",
      "79it [00:00, 94.67it/s]                        \n"
     ]
    },
    {
     "name": "stdout",
     "output_type": "stream",
     "text": [
      "Train Loss: 19048.2706\n",
      "Val Loss: 18955.9036\n",
      "Epoch 44 of 50\n"
     ]
    },
    {
     "name": "stderr",
     "output_type": "stream",
     "text": [
      "469it [00:07, 66.79it/s]                         \n",
      "79it [00:00, 91.87it/s]                        \n"
     ]
    },
    {
     "name": "stdout",
     "output_type": "stream",
     "text": [
      "Train Loss: 19037.1450\n",
      "Val Loss: 18899.6082\n",
      "Epoch 45 of 50\n"
     ]
    },
    {
     "name": "stderr",
     "output_type": "stream",
     "text": [
      "469it [00:07, 65.93it/s]                         \n",
      "79it [00:00, 94.05it/s]                        \n"
     ]
    },
    {
     "name": "stdout",
     "output_type": "stream",
     "text": [
      "Train Loss: 19022.7322\n",
      "Val Loss: 18888.4834\n",
      "Epoch 46 of 50\n"
     ]
    },
    {
     "name": "stderr",
     "output_type": "stream",
     "text": [
      "469it [00:06, 68.47it/s]                         \n",
      "79it [00:00, 98.32it/s]                        \n"
     ]
    },
    {
     "name": "stdout",
     "output_type": "stream",
     "text": [
      "Train Loss: 19020.9896\n",
      "Val Loss: 18852.8870\n",
      "Epoch 47 of 50\n"
     ]
    },
    {
     "name": "stderr",
     "output_type": "stream",
     "text": [
      "469it [00:06, 68.15it/s]                         \n",
      "79it [00:00, 95.36it/s]                        \n"
     ]
    },
    {
     "name": "stdout",
     "output_type": "stream",
     "text": [
      "Train Loss: 19009.1854\n",
      "Val Loss: 18855.1882\n",
      "Epoch 48 of 50\n"
     ]
    },
    {
     "name": "stderr",
     "output_type": "stream",
     "text": [
      "469it [00:06, 69.92it/s]                         \n",
      "79it [00:00, 97.66it/s]                        \n"
     ]
    },
    {
     "name": "stdout",
     "output_type": "stream",
     "text": [
      "Train Loss: 19002.2583\n",
      "Val Loss: 18898.4876\n",
      "Epoch 49 of 50\n"
     ]
    },
    {
     "name": "stderr",
     "output_type": "stream",
     "text": [
      "469it [00:06, 69.15it/s]                         \n",
      "79it [00:00, 85.86it/s]                        \n"
     ]
    },
    {
     "name": "stdout",
     "output_type": "stream",
     "text": [
      "Train Loss: 18993.4762\n",
      "Val Loss: 18870.4174\n",
      "Epoch 50 of 50\n"
     ]
    },
    {
     "name": "stderr",
     "output_type": "stream",
     "text": [
      "469it [00:06, 67.61it/s]                         \n",
      "79it [00:00, 99.61it/s]                        \n"
     ]
    },
    {
     "name": "stdout",
     "output_type": "stream",
     "text": [
      "Train Loss: 18989.1596\n",
      "Val Loss: 18801.8257\n"
     ]
    },
    {
     "data": {
      "image/png": "[encoded data removed]",
      "text/plain": [
       "<Figure size 720x504 with 1 Axes>"
      ]
     },
     "metadata": {},
     "output_type": "display_data"
    },
    {
     "name": "stdout",
     "output_type": "stream",
     "text": [
      "TRAINING COMPLETE\n"
     ]
    }
   ],
   "source": [
    "train_loss = []\n",
    "valid_loss = []\n",
    "for epoch in range(epochs):\n",
    "    print(f\"Epoch {epoch+1} of {epochs}\")\n",
    "    train_epoch_loss = model.trainStep(\n",
    "        trainloader, trainset, optimizer, criterion\n",
    "    )\n",
    "    valid_epoch_loss, recon_images = model.validate(\n",
    "        testloader, testset, criterion\n",
    "    )\n",
    "    train_loss.append(train_epoch_loss)\n",
    "    valid_loss.append(valid_epoch_loss)\n",
    "    # save the reconstructed images from the validation loop\n",
    "    save_reconstructed_images(recon_images, epoch+1)\n",
    "    # convert the reconstructed images to PyTorch image grid format\n",
    "    image_grid = make_grid(recon_images.detach().cpu())\n",
    "    grid_images.append(image_grid)\n",
    "    print(f\"Train Loss: {train_epoch_loss:.4f}\")\n",
    "    print(f\"Val Loss: {valid_epoch_loss:.4f}\")\n",
    "    \n",
    "# save the reconstructions as a .gif file\n",
    "image_to_vid(grid_images)\n",
    "# save the loss plots to disk\n",
    "save_loss_plot(train_loss, valid_loss)\n",
    "print('TRAINING COMPLETE')"
   ]
  }
 ],
 "metadata": {
  "kernelspec": {
   "display_name": "Python 3",
   "language": "python",
   "name": "python3"
  },
  "language_info": {
   "codemirror_mode": {
    "name": "ipython",
    "version": 3
   },
   "file_extension": ".py",
   "mimetype": "text/x-python",
   "name": "python",
   "nbconvert_exporter": "python",
   "pygments_lexer": "ipython3",
   "version": "3.9.7"
  }
 },
 "nbformat": 4,
 "nbformat_minor": 5
}
