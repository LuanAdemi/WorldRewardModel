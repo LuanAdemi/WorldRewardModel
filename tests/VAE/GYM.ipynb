{
 "cells": [
  {
   "cell_type": "markdown",
   "id": "23c7e224-16f2-4598-8b6d-266e9671ab14",
   "metadata": {
    "tags": []
   },
   "source": [
    "# Variational Auto Encoder\n",
    "\n",
    "This notbook tests the **VAE** using the actual observations from a gym env.\n",
    "\n",
    "This model is one part of the **WorldModel** included in the *WorlRewardModel* which is responisble to encode the observation <br> for the **MD-RNN model** so it can predict the next observation. "
   ]
  },
  {
   "cell_type": "code",
   "execution_count": 1,
   "id": "5c7b8609-6dc6-4989-8e97-813709341b18",
   "metadata": {},
   "outputs": [],
   "source": [
    "import pickle\n",
    "import torch\n",
    "import torch.optim as optim\n",
    "import torch.nn as nn\n",
    "import torchvision.transforms as T\n",
    "import matplotlib\n",
    "from torchvision.utils import make_grid\n",
    "from AutoEncoder import *\n",
    "from utils import ImageDataset\n",
    "from torch.utils.data import Dataset, DataLoader\n",
    "from utils import save_reconstructed_images, image_to_vid, save_loss_plot\n",
    "import matplotlib.pyplot as plt\n",
    "\n",
    "from tqdm.notebook import tnrange\n",
    "\n",
    "matplotlib.style.use('ggplot')\n",
    "device = torch.device('cuda' if torch.cuda.is_available() else 'cpu')"
   ]
  },
  {
   "cell_type": "code",
   "execution_count": 2,
   "id": "de2e047d-70c2-4e53-ab17-bfc6ea22609b",
   "metadata": {},
   "outputs": [],
   "source": [
    "# initialize the model\n",
    "model = ConvVAE().to(device)\n",
    "# set the learning parameters\n",
    "lr = 0.001\n",
    "epochs = 400\n",
    "batch_size = 64\n",
    "optimizer = optim.Adam(model.parameters(), lr=lr)\n",
    "criterion = nn.BCELoss(reduction='sum')\n",
    "# a list to save all the reconstructed images in PyTorch grid format\n",
    "grid_images = []"
   ]
  },
  {
   "cell_type": "code",
   "execution_count": 3,
   "id": "51c7daca-43f6-4cb0-8db6-9c7327cbb2c4",
   "metadata": {},
   "outputs": [],
   "source": [
    "dataset = ImageDataset(\"out/carRacing_cleaned.pickle\")\n",
    "\n",
    "trainloader = DataLoader(\n",
    "    dataset, batch_size=batch_size, shuffle=True\n",
    ")"
   ]
  },
  {
   "cell_type": "code",
   "execution_count": null,
   "id": "95d8adb4-de10-4f9f-98f5-b0b63bb53b98",
   "metadata": {
    "tags": []
   },
   "outputs": [
    {
     "data": {
      "application/vnd.jupyter.widget-view+json": {
       "model_id": "fb96883edbf04d969719c4b6519b8917",
       "version_major": 2,
       "version_minor": 0
      },
      "text/plain": [
       "Epoche:   0%|          | 0/400 [00:00<?, ?it/s]"
      ]
     },
     "metadata": {},
     "output_type": "display_data"
    }
   ],
   "source": [
    "%matplotlib inline\n",
    "from IPython.display import clear_output\n",
    "\n",
    "to_pil_image = T.ToPILImage()\n",
    "\n",
    "train_loss = []\n",
    "valid_loss = []\n",
    "\n",
    "for epoch in tnrange(epochs, desc=\"Epoche\"):\n",
    "    train_epoch_loss = model.trainStep(\n",
    "        trainloader, dataset, optimizer, criterion\n",
    "    )\n",
    "    valid_epoch_loss, recon_images = model.validate(\n",
    "        trainloader, dataset, criterion\n",
    "    )\n",
    "    train_loss.append(train_epoch_loss)\n",
    "    valid_loss.append(train_epoch_loss)\n",
    "    # save the reconstructed images from the validation loop\n",
    "    save_reconstructed_images(recon_images, epoch+1)\n",
    "    # convert the reconstructed images to PyTorch image grid format\n",
    "    image_grid = make_grid(recon_images.detach().cpu())\n",
    "    grid_images.append(image_grid)\n",
    "    \n",
    "# save the reconstructions as a .gif file\n",
    "image_to_vid(grid_images)\n",
    "# save the loss plots to disk\n",
    "save_loss_plot(train_loss, valid_loss)\n",
    "print('TRAINING COMPLETE')"
   ]
  }
 ],
 "metadata": {
  "kernelspec": {
   "display_name": "Python 3",
   "language": "python",
   "name": "python3"
  },
  "language_info": {
   "codemirror_mode": {
    "name": "ipython",
    "version": 3
   },
   "file_extension": ".py",
   "mimetype": "text/x-python",
   "name": "python",
   "nbconvert_exporter": "python",
   "pygments_lexer": "ipython3",
   "version": "3.9.7"
  }
 },
 "nbformat": 4,
 "nbformat_minor": 5
}
