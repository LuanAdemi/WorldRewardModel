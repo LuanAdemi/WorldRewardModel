{
 "cells": [
  {
   "cell_type": "markdown",
   "id": "23c7e224-16f2-4598-8b6d-266e9671ab14",
   "metadata": {},
   "source": [
    "<img src=\"out/generated_images.gif\" style=\"float:right;height:200px\">\n",
    "<img src=\"../../assets/AE.png\" style=\"float:right;height:200px\">\n",
    "\n",
    "# Variational Auto Encoder\n",
    "\n",
    "This notbook tests the **VAE** using the actual observations from a gym env.\n",
    "\n",
    "This model is one part of the **WorldModel** included in the *WorlRewardModel* which is responisble to encode the observation <br> for the **MD-RNN model** so it can predict the next observation. "
   ]
  },
  {
   "cell_type": "code",
   "execution_count": null,
   "id": "5c7b8609-6dc6-4989-8e97-813709341b18",
   "metadata": {},
   "outputs": [],
   "source": []
  }
 ],
 "metadata": {
  "kernelspec": {
   "display_name": "Python 3",
   "language": "python",
   "name": "python3"
  },
  "language_info": {
   "codemirror_mode": {
    "name": "ipython",
    "version": 3
   },
   "file_extension": ".py",
   "mimetype": "text/x-python",
   "name": "python",
   "nbconvert_exporter": "python",
   "pygments_lexer": "ipython3",
   "version": "3.9.5"
  }
 },
 "nbformat": 4,
 "nbformat_minor": 5
}
